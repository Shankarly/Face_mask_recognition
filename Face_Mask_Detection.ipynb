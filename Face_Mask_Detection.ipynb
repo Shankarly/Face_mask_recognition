{
  "nbformat": 4,
  "nbformat_minor": 0,
  "metadata": {
    "colab": {
      "name": "B19EE008_B19EE041.ipynb",
      "provenance": []
    },
    "kernelspec": {
      "name": "python3",
      "display_name": "Python 3"
    },
    "language_info": {
      "name": "python"
    }
  },
  "cells": [
    {
      "cell_type": "code",
      "metadata": {
        "colab": {
          "base_uri": "https://localhost:8080/"
        },
        "id": "Y7hgiPfDq_PA",
        "outputId": "59b2ef13-ca9d-4987-a023-6c37313de483"
      },
      "source": [
        "from google.colab import drive\n",
        "drive.mount('/content/drive')"
      ],
      "execution_count": 28,
      "outputs": [
        {
          "output_type": "stream",
          "text": [
            "Drive already mounted at /content/drive; to attempt to forcibly remount, call drive.mount(\"/content/drive\", force_remount=True).\n"
          ],
          "name": "stdout"
        }
      ]
    },
    {
      "cell_type": "markdown",
      "metadata": {
        "id": "ofTZX_jTSShD"
      },
      "source": [
        "### **Dependencies**"
      ]
    },
    {
      "cell_type": "code",
      "metadata": {
        "id": "y1Z543nt9HPQ"
      },
      "source": [
        "import cv2\n",
        "import numpy as np\n",
        "from sklearn.svm import SVC\n",
        "from sklearn import metrics\n",
        "import matplotlib.pyplot as plt\n",
        "from sklearn.metrics import accuracy_score, classification_report\n",
        "from sklearn.model_selection import train_test_split as tts\n",
        "from sklearn.tree import DecisionTreeClassifier\n",
        "from sklearn.ensemble import RandomForestClassifier\n",
        "from sklearn.linear_model import LogisticRegression\n",
        "from sklearn.neural_network import MLPClassifier\n",
        "from sklearn import svm\n",
        "\n",
        "import os\n",
        "import cv2\n",
        "from keras.preprocessing import image\n",
        "from tensorflow.keras.preprocessing.image import load_img\n",
        "from tensorflow.keras.applications.mobilenet_v2 import preprocess_input\n",
        "from tensorflow.keras.preprocessing.image import img_to_array"
      ],
      "execution_count": 29,
      "outputs": []
    },
    {
      "cell_type": "markdown",
      "metadata": {
        "id": "RolBz7GMSZ2K"
      },
      "source": [
        "### **Read the Input (Images)**"
      ]
    },
    {
      "cell_type": "code",
      "metadata": {
        "id": "AUpeazNpGzGk"
      },
      "source": [
        "Directory = r\"/content/drive/MyDrive/PRML_mini_Project\"\n",
        "Categories_ = [\"Mask\",\"No-Mask\"]\n",
        "Categories = [1,0]"
      ],
      "execution_count": 30,
      "outputs": []
    },
    {
      "cell_type": "code",
      "metadata": {
        "id": "w4FlA5FXpXGs"
      },
      "source": [
        "Img_data = []\n",
        "Img_label = []\n",
        "\n",
        "for cate_n in Categories_:\n",
        "    path = os.path.join(Directory, cate_n)\n",
        "    for Img_i in os.listdir(path):\n",
        "    \tImg_pth = os.path.join(path, Img_i)\n",
        "    \tImg_n = load_img(Img_pth, target_size=(224, 224))\n",
        "    \tImg_n = img_to_array(Img_n)\n",
        "    \tImg_n = preprocess_input(Img_n)\n",
        "    \tImg_data.append(Img_n)\n",
        "    \tImg_label.append(cate_n)"
      ],
      "execution_count": 31,
      "outputs": []
    },
    {
      "cell_type": "code",
      "metadata": {
        "id": "kQiLjZCkxuih"
      },
      "source": [
        "Img_data=np.array(Img_data)"
      ],
      "execution_count": 32,
      "outputs": []
    },
    {
      "cell_type": "markdown",
      "metadata": {
        "id": "UzoidQLvSjfg"
      },
      "source": [
        "- **Shape of Image array**"
      ]
    },
    {
      "cell_type": "code",
      "metadata": {
        "colab": {
          "base_uri": "https://localhost:8080/"
        },
        "id": "ts27Wx7Azv8K",
        "outputId": "652915a2-5e11-42df-c15d-1aeb16c09e26"
      },
      "source": [
        "print(Img_data.shape)"
      ],
      "execution_count": 33,
      "outputs": [
        {
          "output_type": "stream",
          "text": [
            "(2000, 224, 224, 3)\n"
          ],
          "name": "stdout"
        }
      ]
    },
    {
      "cell_type": "code",
      "metadata": {
        "colab": {
          "base_uri": "https://localhost:8080/",
          "height": 36
        },
        "id": "Q4qjyLlN3btP",
        "outputId": "33f5e2c4-9b9c-43c2-fbd2-aaeb07e3a3d9"
      },
      "source": [
        "Img_label[500]"
      ],
      "execution_count": 34,
      "outputs": [
        {
          "output_type": "execute_result",
          "data": {
            "application/vnd.google.colaboratory.intrinsic+json": {
              "type": "string"
            },
            "text/plain": [
              "'Mask'"
            ]
          },
          "metadata": {
            "tags": []
          },
          "execution_count": 34
        }
      ]
    },
    {
      "cell_type": "code",
      "metadata": {
        "colab": {
          "base_uri": "https://localhost:8080/",
          "height": 36
        },
        "id": "VFgRe5zH3hIv",
        "outputId": "9880c0a9-4b3d-44e6-f80b-dcfbf0ab7c4a"
      },
      "source": [
        "Img_label[1500]"
      ],
      "execution_count": 35,
      "outputs": [
        {
          "output_type": "execute_result",
          "data": {
            "application/vnd.google.colaboratory.intrinsic+json": {
              "type": "string"
            },
            "text/plain": [
              "'No-Mask'"
            ]
          },
          "metadata": {
            "tags": []
          },
          "execution_count": 35
        }
      ]
    },
    {
      "cell_type": "code",
      "metadata": {
        "id": "4Lh9kZ27zyTC"
      },
      "source": [
        "Img_Face_data = Img_data\n",
        "#print(Img_Face_data.shape)"
      ],
      "execution_count": 36,
      "outputs": []
    },
    {
      "cell_type": "code",
      "metadata": {
        "id": "u9eUFjuE0czn"
      },
      "source": [
        "Img_label_name = {1 : \"Mask\", 0 : \"No-Mask\"}"
      ],
      "execution_count": 37,
      "outputs": []
    },
    {
      "cell_type": "markdown",
      "metadata": {
        "id": "XUl1tdQ-Su69"
      },
      "source": [
        "- **Labeling ( 1 for Mask & 0 for No-Mask )**"
      ]
    },
    {
      "cell_type": "code",
      "metadata": {
        "id": "g_LWk8Rn0cwQ"
      },
      "source": [
        "Img_label = np.ones((Img_Face_data.shape[0],1))"
      ],
      "execution_count": 38,
      "outputs": []
    },
    {
      "cell_type": "code",
      "metadata": {
        "id": "YkC1cv0z0ctx"
      },
      "source": [
        "Img_label[1000:,:] = 0.0"
      ],
      "execution_count": 39,
      "outputs": []
    },
    {
      "cell_type": "code",
      "metadata": {
        "colab": {
          "base_uri": "https://localhost:8080/"
        },
        "id": "slaAmpFs4K_A",
        "outputId": "4132c969-35ae-440b-efb6-fd3038a2b4aa"
      },
      "source": [
        "Img_label[500]"
      ],
      "execution_count": 40,
      "outputs": [
        {
          "output_type": "execute_result",
          "data": {
            "text/plain": [
              "array([1.])"
            ]
          },
          "metadata": {
            "tags": []
          },
          "execution_count": 40
        }
      ]
    },
    {
      "cell_type": "code",
      "metadata": {
        "colab": {
          "base_uri": "https://localhost:8080/"
        },
        "id": "PeJ0MpeI4Ptk",
        "outputId": "346aeb78-97d2-4183-dcb3-52e115818c01"
      },
      "source": [
        "Img_label[1500]"
      ],
      "execution_count": 41,
      "outputs": [
        {
          "output_type": "execute_result",
          "data": {
            "text/plain": [
              "array([0.])"
            ]
          },
          "metadata": {
            "tags": []
          },
          "execution_count": 41
        }
      ]
    },
    {
      "cell_type": "markdown",
      "metadata": {
        "id": "Vr6zHcSRTtCY"
      },
      "source": [
        "### **Extracting only Face Image from Whole Pictures.**\n",
        "\n",
        "\n",
        "*   **Viola-Jones** Face Detection Technique(also known as **Haar Cascades**)\n",
        "\n"
      ]
    },
    {
      "cell_type": "code",
      "metadata": {
        "id": "yVxEfjdW0crW"
      },
      "source": [
        "data_set = cv2.CascadeClassifier('haarcascade_frontalface_default.xml')\n",
        "fnt = cv2.FONT_HERSHEY_COMPLEX"
      ],
      "execution_count": 42,
      "outputs": []
    },
    {
      "cell_type": "markdown",
      "metadata": {
        "id": "VVx_ixNMVVPn"
      },
      "source": [
        "- Split the data into Train and Test (50:50)"
      ]
    },
    {
      "cell_type": "code",
      "metadata": {
        "id": "AEB2XtIL0cj-"
      },
      "source": [
        "x_ntrain, x_ntest, y_ntrain, y_ntest = tts(Img_Face_data, Img_label, test_size = 0.5,random_state=32)"
      ],
      "execution_count": 43,
      "outputs": []
    },
    {
      "cell_type": "code",
      "metadata": {
        "colab": {
          "base_uri": "https://localhost:8080/"
        },
        "id": "uF9Dkynp6HRv",
        "outputId": "b68bbd38-71c7-40ac-fa97-6aaf9fc0c0bb"
      },
      "source": [
        "print(x_ntrain.shape)"
      ],
      "execution_count": 44,
      "outputs": [
        {
          "output_type": "stream",
          "text": [
            "(1000, 224, 224, 3)\n"
          ],
          "name": "stdout"
        }
      ]
    },
    {
      "cell_type": "code",
      "metadata": {
        "colab": {
          "base_uri": "https://localhost:8080/"
        },
        "id": "19QT5JBT6Rba",
        "outputId": "9ee930df-d2f7-40b7-dc49-2fd8bed50f33"
      },
      "source": [
        "print(x_ntest.shape)"
      ],
      "execution_count": 45,
      "outputs": [
        {
          "output_type": "stream",
          "text": [
            "(1000, 224, 224, 3)\n"
          ],
          "name": "stdout"
        }
      ]
    },
    {
      "cell_type": "code",
      "metadata": {
        "id": "vaEy8ocY6Gdm"
      },
      "source": [
        "x_ntrain = x_ntrain.reshape(x_ntrain.shape[0],x_ntrain.shape[1]*x_ntrain.shape[2]*x_ntrain.shape[3])\n",
        "x_ntest = x_ntest.reshape(x_ntest.shape[0],x_ntest.shape[1]*x_ntest.shape[2]*x_ntest.shape[3])"
      ],
      "execution_count": 46,
      "outputs": []
    },
    {
      "cell_type": "markdown",
      "metadata": {
        "id": "686aDZnr8NmR"
      },
      "source": [
        "### **Classifier**\n",
        "\n",
        "1.   DecisionTreeClassifier\n",
        "2.   RandomForestClassifier\n",
        "3.   LogisticRegression\n",
        "4.   SVC\n",
        "\n"
      ]
    },
    {
      "cell_type": "code",
      "metadata": {
        "id": "yS_17qNX93Z-"
      },
      "source": [
        "FMD_clf = [DecisionTreeClassifier(), \n",
        "              RandomForestClassifier(n_estimators=1000, random_state=42),\n",
        "              LogisticRegression(),\n",
        "              svm.SVC()]\n",
        "FMD_cls_name = []"
      ],
      "execution_count": 47,
      "outputs": []
    },
    {
      "cell_type": "markdown",
      "metadata": {
        "id": "Qsfa1tBpd3bG"
      },
      "source": [
        "**Classification Report of All 4 Models**"
      ]
    },
    {
      "cell_type": "code",
      "metadata": {
        "colab": {
          "base_uri": "https://localhost:8080/"
        },
        "id": "JjTBe10E98Tr",
        "outputId": "1dcd343d-f73b-4c8e-dc42-4b08a647c47f"
      },
      "source": [
        "tmp = 0\n",
        "fmd_accu = []\n",
        "for n_clf in FMD_clf :\n",
        "    n_model = n_clf.fit(x_ntrain,y_ntrain.flatten())\n",
        "    fmd_labl_predicted = n_model.predict(x_ntest)\n",
        "    n_cnt = accuracy_score(y_ntest, fmd_labl_predicted)\n",
        "    n_cnt = round(n_cnt*100,2)\n",
        "    fmd_accu.append(n_cnt)\n",
        "    FMD_cls_name.append(n_clf.__class__.__name__)\n",
        "    print (f'{FMD_cls_name[tmp]}  Accuracy Score : {n_cnt}')\n",
        "    print(classification_report(y_ntest,fmd_labl_predicted))\n",
        "    print('-'*60)\n",
        "    tmp = tmp+1"
      ],
      "execution_count": 48,
      "outputs": [
        {
          "output_type": "stream",
          "text": [
            "DecisionTreeClassifier  Accuracy Score : 88.3\n",
            "              precision    recall  f1-score   support\n",
            "\n",
            "         0.0       0.88      0.90      0.89       510\n",
            "         1.0       0.89      0.87      0.88       490\n",
            "\n",
            "    accuracy                           0.88      1000\n",
            "   macro avg       0.88      0.88      0.88      1000\n",
            "weighted avg       0.88      0.88      0.88      1000\n",
            "\n",
            "------------------------------------------------------------\n",
            "RandomForestClassifier  Accuracy Score : 94.4\n",
            "              precision    recall  f1-score   support\n",
            "\n",
            "         0.0       0.96      0.93      0.94       510\n",
            "         1.0       0.93      0.96      0.94       490\n",
            "\n",
            "    accuracy                           0.94      1000\n",
            "   macro avg       0.94      0.94      0.94      1000\n",
            "weighted avg       0.94      0.94      0.94      1000\n",
            "\n",
            "------------------------------------------------------------\n"
          ],
          "name": "stdout"
        },
        {
          "output_type": "stream",
          "text": [
            "/usr/local/lib/python3.7/dist-packages/sklearn/linear_model/_logistic.py:940: ConvergenceWarning: lbfgs failed to converge (status=1):\n",
            "STOP: TOTAL NO. of ITERATIONS REACHED LIMIT.\n",
            "\n",
            "Increase the number of iterations (max_iter) or scale the data as shown in:\n",
            "    https://scikit-learn.org/stable/modules/preprocessing.html\n",
            "Please also refer to the documentation for alternative solver options:\n",
            "    https://scikit-learn.org/stable/modules/linear_model.html#logistic-regression\n",
            "  extra_warning_msg=_LOGISTIC_SOLVER_CONVERGENCE_MSG)\n"
          ],
          "name": "stderr"
        },
        {
          "output_type": "stream",
          "text": [
            "LogisticRegression  Accuracy Score : 88.5\n",
            "              precision    recall  f1-score   support\n",
            "\n",
            "         0.0       0.82      0.99      0.90       510\n",
            "         1.0       0.99      0.77      0.87       490\n",
            "\n",
            "    accuracy                           0.89      1000\n",
            "   macro avg       0.90      0.88      0.88      1000\n",
            "weighted avg       0.90      0.89      0.88      1000\n",
            "\n",
            "------------------------------------------------------------\n",
            "SVC  Accuracy Score : 97.8\n",
            "              precision    recall  f1-score   support\n",
            "\n",
            "         0.0       0.98      0.98      0.98       510\n",
            "         1.0       0.98      0.98      0.98       490\n",
            "\n",
            "    accuracy                           0.98      1000\n",
            "   macro avg       0.98      0.98      0.98      1000\n",
            "weighted avg       0.98      0.98      0.98      1000\n",
            "\n",
            "------------------------------------------------------------\n"
          ],
          "name": "stdout"
        }
      ]
    },
    {
      "cell_type": "markdown",
      "metadata": {
        "id": "0FyeE-_tdza-"
      },
      "source": [
        "**Plot of Accuracy by all four Models (without PCA)**"
      ]
    },
    {
      "cell_type": "code",
      "metadata": {
        "colab": {
          "base_uri": "https://localhost:8080/",
          "height": 441
        },
        "id": "7D0cFx1o9_sl",
        "outputId": "928b11b1-f170-4ed3-8e15-0ffddc0b88ed"
      },
      "source": [
        "plt.figure(figsize=(8,6))\n",
        "plt.bar(FMD_cls_name, fmd_accu)\n",
        "plt.xticks(rotation=70)\n",
        "for Idx,Val in enumerate(fmd_accu):\n",
        "    plt.text(x=Idx , y=Val+1 , s=f\"{Val}%\" , fontdict=dict(fontsize=14))\n",
        "plt.tight_layout()\n",
        "plt.show()"
      ],
      "execution_count": 49,
      "outputs": [
        {
          "output_type": "display_data",
          "data": {
            "image/png": "[encoded data removed]",
            "text/plain": [
              "<Figure size 576x432 with 1 Axes>"
            ]
          },
          "metadata": {
            "tags": [],
            "needs_background": "light"
          }
        }
      ]
    },
    {
      "cell_type": "markdown",
      "metadata": {
        "id": "xXYISUr7731u"
      },
      "source": [
        "# **Feature selction**"
      ]
    },
    {
      "cell_type": "markdown",
      "metadata": {
        "id": "wUAD5-RHddwK"
      },
      "source": [
        "**PCA Technique**"
      ]
    },
    {
      "cell_type": "code",
      "metadata": {
        "id": "kDFqthld0_Yk"
      },
      "source": [
        "from sklearn.decomposition import PCA"
      ],
      "execution_count": 50,
      "outputs": []
    },
    {
      "cell_type": "code",
      "metadata": {
        "id": "SISbQpR20_V2"
      },
      "source": [
        "fmd_comp = PCA(n_components=3)"
      ],
      "execution_count": 51,
      "outputs": []
    },
    {
      "cell_type": "code",
      "metadata": {
        "id": "jNXdqJn41PAF"
      },
      "source": [
        "x_ntrain = fmd_comp.fit_transform(x_ntrain)\n",
        "x_ntest = fmd_comp.fit_transform(x_ntest)\n"
      ],
      "execution_count": 52,
      "outputs": []
    },
    {
      "cell_type": "code",
      "metadata": {
        "id": "qsTbyihoDgO4"
      },
      "source": [
        "FMD_clf = [DecisionTreeClassifier(), \n",
        "              RandomForestClassifier(n_estimators=1000, random_state=42),\n",
        "              LogisticRegression(),\n",
        "              svm.SVC()]\n",
        "FMD_cls_name = []"
      ],
      "execution_count": 59,
      "outputs": []
    },
    {
      "cell_type": "markdown",
      "metadata": {
        "id": "fXRxy5T7eBfs"
      },
      "source": [
        "**Classification Report of All 4 Models (After PCA)**"
      ]
    },
    {
      "cell_type": "code",
      "metadata": {
        "colab": {
          "base_uri": "https://localhost:8080/"
        },
        "id": "5BWmSeTZDlW1",
        "outputId": "db789387-4b21-4182-8023-283ce9268c12"
      },
      "source": [
        "tmp = 0\n",
        "fmd_accu2 = []\n",
        "for n_clf in FMD_clf :\n",
        "    fmd_mdl = n_clf.fit(x_ntrain,y_ntrain.flatten())\n",
        "    fmd_labl_predicted = fmd_mdl.predict(x_ntest)\n",
        "    n_cnt = accuracy_score(y_ntest, fmd_labl_predicted)\n",
        "    n_cnt = round(n_cnt*100,2)\n",
        "    fmd_accu2.append(n_cnt)\n",
        "    FMD_cls_name.append(n_clf.__class__.__name__)\n",
        "    print (f'{FMD_cls_name[tmp]}  Accuracy Score : {n_cnt}')\n",
        "    print (classification_report(y_ntest,fmd_labl_predicted))\n",
        "    print('-'*60)\n",
        "    tmp = tmp+1\n"
      ],
      "execution_count": 60,
      "outputs": [
        {
          "output_type": "stream",
          "text": [
            "DecisionTreeClassifier  Accuracy Score : 82.0\n",
            "              precision    recall  f1-score   support\n",
            "\n",
            "         0.0       0.84      0.80      0.82       510\n",
            "         1.0       0.80      0.84      0.82       490\n",
            "\n",
            "    accuracy                           0.82      1000\n",
            "   macro avg       0.82      0.82      0.82      1000\n",
            "weighted avg       0.82      0.82      0.82      1000\n",
            "\n",
            "------------------------------------------------------------\n",
            "RandomForestClassifier  Accuracy Score : 85.5\n",
            "              precision    recall  f1-score   support\n",
            "\n",
            "         0.0       0.87      0.84      0.86       510\n",
            "         1.0       0.84      0.87      0.85       490\n",
            "\n",
            "    accuracy                           0.85      1000\n",
            "   macro avg       0.86      0.86      0.85      1000\n",
            "weighted avg       0.86      0.85      0.86      1000\n",
            "\n",
            "------------------------------------------------------------\n",
            "LogisticRegression  Accuracy Score : 86.9\n",
            "              precision    recall  f1-score   support\n",
            "\n",
            "         0.0       0.87      0.87      0.87       510\n",
            "         1.0       0.86      0.87      0.87       490\n",
            "\n",
            "    accuracy                           0.87      1000\n",
            "   macro avg       0.87      0.87      0.87      1000\n",
            "weighted avg       0.87      0.87      0.87      1000\n",
            "\n",
            "------------------------------------------------------------\n",
            "SVC  Accuracy Score : 86.2\n",
            "              precision    recall  f1-score   support\n",
            "\n",
            "         0.0       0.88      0.85      0.86       510\n",
            "         1.0       0.85      0.88      0.86       490\n",
            "\n",
            "    accuracy                           0.86      1000\n",
            "   macro avg       0.86      0.86      0.86      1000\n",
            "weighted avg       0.86      0.86      0.86      1000\n",
            "\n",
            "------------------------------------------------------------\n"
          ],
          "name": "stdout"
        }
      ]
    },
    {
      "cell_type": "markdown",
      "metadata": {
        "id": "cANHPjmQdmoB"
      },
      "source": [
        "**Plot of Accuracy by all four Models (with PCA)**"
      ]
    },
    {
      "cell_type": "code",
      "metadata": {
        "colab": {
          "base_uri": "https://localhost:8080/",
          "height": 442
        },
        "id": "UXT8TfbPD0rs",
        "outputId": "f20676d8-8eeb-44af-c8b9-0d0b053ab08a"
      },
      "source": [
        "plt.figure(figsize=(8,6))\n",
        "plt.bar(FMD_cls_name, fmd_accu2)\n",
        "plt.xticks(rotation=70)\n",
        "for Idx,Val in enumerate(fmd_accu2):\n",
        "    plt.text(x=Idx , y =Val+1 , s=f\"{Val}%\" , fontdict=dict(fontsize=14))\n",
        "plt.tight_layout()\n",
        "plt.show()"
      ],
      "execution_count": 63,
      "outputs": [
        {
          "output_type": "display_data",
          "data": {
            "image/png": "[encoded data removed]",
            "text/plain": [
              "<Figure size 576x432 with 1 Axes>"
            ]
          },
          "metadata": {
            "tags": [],
            "needs_background": "light"
          }
        }
      ]
    },
    {
      "cell_type": "markdown",
      "metadata": {
        "id": "fmLpd7PadYeT"
      },
      "source": [
        "### **Comparision between After PCA and Before PCA Model**"
      ]
    },
    {
      "cell_type": "code",
      "metadata": {
        "id": "WN94A-2I1Oyr",
        "colab": {
          "base_uri": "https://localhost:8080/",
          "height": 575
        },
        "outputId": "f926774b-4ae5-469e-e7b5-5c755fff6b57"
      },
      "source": [
        "plt.figure(figsize=(12,9))\n",
        "X = FMD_cls_name\n",
        "  \n",
        "X_axis = np.arange(len(X))\n",
        "\n",
        "plt.bar(X_axis - 0.1, fmd_accu2,0.2,label = 'After_PCA')\n",
        "plt.bar(X_axis + 0.1, fmd_accu,0.2,label = 'Before_PCA')\n",
        "\n",
        "plt.xticks(X_axis,FMD_cls_name)\n",
        "plt.xlabel(\"Models\",weight='bold',fontsize='x-large')\n",
        "plt.ylabel(\"Accuracy\",weight='bold',fontsize='x-large')\n",
        "plt.title(\"Comparision between After PCA and Before PCA\",weight='bold',fontsize='xx-large')\n",
        "plt.legend()\n",
        "plt.show()"
      ],
      "execution_count": 64,
      "outputs": [
        {
          "output_type": "display_data",
          "data": {
            "image/png": "[encoded data removed]",
            "text/plain": [
              "<Figure size 864x648 with 1 Axes>"
            ]
          },
          "metadata": {
            "tags": [],
            "needs_background": "light"
          }
        }
      ]
    }
  ]
}
